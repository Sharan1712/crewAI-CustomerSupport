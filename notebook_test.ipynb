{
 "cells": [
  {
   "cell_type": "code",
   "execution_count": 1,
   "metadata": {},
   "outputs": [],
   "source": [
    "# Warning control\n",
    "import warnings\n",
    "warnings.filterwarnings('ignore')"
   ]
  },
  {
   "cell_type": "code",
   "execution_count": 2,
   "metadata": {},
   "outputs": [
    {
     "data": {
      "text/plain": [
       "True"
      ]
     },
     "execution_count": 2,
     "metadata": {},
     "output_type": "execute_result"
    }
   ],
   "source": [
    "from dotenv import load_dotenv\n",
    "load_dotenv()"
   ]
  },
  {
   "cell_type": "code",
   "execution_count": 3,
   "metadata": {},
   "outputs": [],
   "source": [
    "from langchain_community.llms import HuggingFaceHub\n",
    "from crewai import LLM\n",
    "import os\n",
    "\n",
    "# Setting up the LLMs to use for our agents.\n",
    "# We can also keep different LLMs for different agents\n",
    "\n",
    "# llm = HuggingFaceHub(\n",
    "#     repo_id = \"mistralai/Mistral-7B-Instruct-v0.3\",\n",
    "#     huggingfacehub_api_token = os.getenv(\"HF_TOKEN\"),\n",
    "#     task = \"text-generation\",\n",
    "# )\n",
    "\n",
    "llm = LLM(model = \"openai/gpt-4o-mini\")"
   ]
  },
  {
   "cell_type": "code",
   "execution_count": 5,
   "metadata": {},
   "outputs": [],
   "source": [
    "from crewai import Agent, Task, Crew"
   ]
  },
  {
   "cell_type": "code",
   "execution_count": 6,
   "metadata": {},
   "outputs": [],
   "source": [
    "support_agent = Agent(\n",
    "    role = \"Senior Support Representative\",\n",
    "\tgoal = \"Be the most friendly and helpful support representative in your team\",\n",
    "\tbackstory = \"\"\"You work at crewAI (https://crewai.com) and are now working on providing support to {customer}, a super important customer\n",
    "        for your company. You need to make sure that you provide the best support! \n",
    "        Make sure to provide full complete answers, and make no assumptions.\"\"\",\n",
    "\tallow_delegation = False,\n",
    "\tverbose = True\n",
    ")"
   ]
  },
  {
   "cell_type": "code",
   "execution_count": null,
   "metadata": {},
   "outputs": [],
   "source": [
    "support_quality_assurance_agent = Agent(\n",
    "\trole = \"Support Quality Assurance Specialist\",\n",
    "\tgoal = \"Get recognition for providing the best support quality assurance in your team\",\n",
    "\tbackstory = \"\"\"You work at crewAI (https://crewai.com) and are now working with your team on a request from {customer} ensuring that the support representative \n",
    "        is providing the best support possible.\n",
    "        You need to make sure that the support representative is providing full complete answers, and make no assumptions.\"\"\",\n",
    "\tverbose = True\n",
    ")"
   ]
  },
  {
   "cell_type": "code",
   "execution_count": 8,
   "metadata": {},
   "outputs": [
    {
     "name": "stderr",
     "output_type": "stream",
     "text": [
      "d:\\Anaconda\\envs\\crewai_env\\Lib\\site-packages\\pydantic\\_internal\\_config.py:295: PydanticDeprecatedSince20: Support for class-based `config` is deprecated, use ConfigDict instead. Deprecated in Pydantic V2.0 to be removed in V3.0. See Pydantic V2 Migration Guide at https://errors.pydantic.dev/2.10/migration/\n",
      "  warnings.warn(DEPRECATION_MESSAGE, DeprecationWarning)\n",
      "d:\\Anaconda\\envs\\crewai_env\\Lib\\site-packages\\crewai_tools\\tools\\scrapegraph_scrape_tool\\scrapegraph_scrape_tool.py:34: PydanticDeprecatedSince20: Pydantic V1 style `@validator` validators are deprecated. You should migrate to Pydantic V2 style `@field_validator` validators, see the migration guide for more details. Deprecated in Pydantic V2.0 to be removed in V3.0. See Pydantic V2 Migration Guide at https://errors.pydantic.dev/2.10/migration/\n",
      "  @validator(\"website_url\")\n",
      "d:\\Anaconda\\envs\\crewai_env\\Lib\\site-packages\\crewai_tools\\tools\\selenium_scraping_tool\\selenium_scraping_tool.py:26: PydanticDeprecatedSince20: Pydantic V1 style `@validator` validators are deprecated. You should migrate to Pydantic V2 style `@field_validator` validators, see the migration guide for more details. Deprecated in Pydantic V2.0 to be removed in V3.0. See Pydantic V2 Migration Guide at https://errors.pydantic.dev/2.10/migration/\n",
      "  @validator(\"website_url\")\n",
      "d:\\Anaconda\\envs\\crewai_env\\Lib\\site-packages\\crewai_tools\\tools\\vision_tool\\vision_tool.py:15: PydanticDeprecatedSince20: Pydantic V1 style `@validator` validators are deprecated. You should migrate to Pydantic V2 style `@field_validator` validators, see the migration guide for more details. Deprecated in Pydantic V2.0 to be removed in V3.0. See Pydantic V2 Migration Guide at https://errors.pydantic.dev/2.10/migration/\n",
      "  @validator(\"image_path_url\")\n"
     ]
    }
   ],
   "source": [
    "from crewai_tools import SerperDevTool, ScrapeWebsiteTool, WebsiteSearchTool"
   ]
  },
  {
   "cell_type": "code",
   "execution_count": 9,
   "metadata": {},
   "outputs": [],
   "source": [
    "docs_scrape_tool = ScrapeWebsiteTool(website_url=\"https://docs.crewai.com/how-to/Creating-a-Crew-and-kick-it-off/\")"
   ]
  },
  {
   "cell_type": "code",
   "execution_count": 10,
   "metadata": {},
   "outputs": [],
   "source": [
    "inquiry_resolution = Task(\n",
    "    description = \n",
    "    \"\"\"{customer} just reached out with a super important ask:\n",
    "\t{inquiry}\n",
    "    {person} from {customer} is the one that reached out.\n",
    "\tMake sure to use everything you know to provide the best support possible. \n",
    "    You must strive to provide a complete and accurate response to the customer's inquiry.\"\"\",\n",
    "    expected_output = \"\"\"A detailed, informative response to the customer's inquiry that addresses all aspects of their question.\n",
    "    The response should include references to everything you used to find the answer, including external data or solutions. \n",
    "    Ensure the answer is complete, leaving no questions unanswered, and maintain a helpful and friendly tone throughout.\"\"\",\n",
    "\ttools = [docs_scrape_tool],\n",
    "    agent = support_agent,\n",
    ")"
   ]
  },
  {
   "cell_type": "code",
   "execution_count": null,
   "metadata": {},
   "outputs": [],
   "source": [
    "quality_assurance_review = Task(\n",
    "    description = \"\"\"Review the response drafted by the Senior Support Representative for {customer}'s inquiry.\n",
    "        Ensure that the answer is comprehensive, accurate, and adheres to the high-quality standards expected for customer support.\n",
    "        Verify that all parts of the customer's inquiry have been addressed thoroughly, with a helpful and friendly tone.\n",
    "        Check for references and sources used to find the information, ensuring the response is well-supported and leaves no questions unanswered.\"\"\",\n",
    "    expected_output =\n",
    "        \"\"\"A final, detailed, and informative response ready to be sent to the customer.\n",
    "        This response should fully address the customer's inquiry, incorporating all relevant feedback and improvements.\n",
    "\t\tDon't be too formal, we are a chill and cool company but maintain a professional and friendly tone throughout.\"\"\",\n",
    "    agent = support_quality_assurance_agent,\n",
    ")\n"
   ]
  },
  {
   "cell_type": "code",
   "execution_count": null,
   "metadata": {},
   "outputs": [],
   "source": [
    "crew = Crew(\n",
    "  agents = [support_agent, support_quality_assurance_agent],\n",
    "  tasks = [inquiry_resolution, quality_assurance_review],\n",
    "  verbose = True,\n",
    "  memory = True\n",
    ")"
   ]
  },
  {
   "cell_type": "code",
   "execution_count": null,
   "metadata": {},
   "outputs": [],
   "source": [
    "inputs = {\n",
    "    \"customer\": \"DeepLearningAI\",\n",
    "    \"person\": \"Andrew Ng\",\n",
    "    \"inquiry\": \"I need help with setting up a Crew \"\n",
    "               \"and kicking it off, specifically \"\n",
    "               \"how can I add memory to my crew? \"\n",
    "               \"Can you provide guidance?\"\n",
    "}\n",
    "result = crew.kickoff(inputs = inputs)"
   ]
  },
  {
   "cell_type": "code",
   "execution_count": null,
   "metadata": {},
   "outputs": [],
   "source": [
    "from IPython.display import Markdown\n",
    "Markdown(result)"
   ]
  }
 ],
 "metadata": {
  "kernelspec": {
   "display_name": "crewai_env",
   "language": "python",
   "name": "python3"
  },
  "language_info": {
   "codemirror_mode": {
    "name": "ipython",
    "version": 3
   },
   "file_extension": ".py",
   "mimetype": "text/x-python",
   "name": "python",
   "nbconvert_exporter": "python",
   "pygments_lexer": "ipython3",
   "version": "3.11.11"
  }
 },
 "nbformat": 4,
 "nbformat_minor": 2
}
