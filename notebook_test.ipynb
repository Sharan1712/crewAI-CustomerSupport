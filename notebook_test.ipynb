{
 "cells": [
  {
   "cell_type": "code",
   "execution_count": 1,
   "metadata": {},
   "outputs": [],
   "source": [
    "# Warning control\n",
    "import warnings\n",
    "warnings.filterwarnings('ignore')"
   ]
  },
  {
   "cell_type": "code",
   "execution_count": 2,
   "metadata": {},
   "outputs": [
    {
     "data": {
      "text/plain": [
       "True"
      ]
     },
     "execution_count": 2,
     "metadata": {},
     "output_type": "execute_result"
    }
   ],
   "source": [
    "from dotenv import load_dotenv\n",
    "load_dotenv()"
   ]
  },
  {
   "cell_type": "code",
   "execution_count": 3,
   "metadata": {},
   "outputs": [],
   "source": [
    "from langchain_community.llms import HuggingFaceHub\n",
    "from crewai import LLM\n",
    "import os\n",
    "\n",
    "# Setting up the LLMs to use for our agents.\n",
    "# We can also keep different LLMs for different agents\n",
    "\n",
    "# llm = HuggingFaceHub(\n",
    "#     repo_id = \"mistralai/Mistral-7B-Instruct-v0.3\",\n",
    "#     huggingfacehub_api_token = os.getenv(\"HF_TOKEN\"),\n",
    "#     task = \"text-generation\",\n",
    "# )\n",
    "\n",
    "llm = LLM(model = \"openai/gpt-4o-mini\")"
   ]
  },
  {
   "cell_type": "code",
   "execution_count": 5,
   "metadata": {},
   "outputs": [],
   "source": [
    "from crewai import Agent, Task, Crew"
   ]
  },
  {
   "cell_type": "code",
   "execution_count": 6,
   "metadata": {},
   "outputs": [],
   "source": [
    "support_agent = Agent(\n",
    "    role = \"Senior Support Representative\",\n",
    "\tgoal = \"Be the most friendly and helpful support representative in your team\",\n",
    "\tbackstory = \"\"\"You work at crewAI (https://crewai.com) and are now working on providing support to {customer}, a super important customer\n",
    "        for your company. You need to make sure that you provide the best support! \n",
    "        Make sure to provide full complete answers, and make no assumptions.\"\"\",\n",
    "\tallow_delegation = False,\n",
    "\tverbose = True\n",
    ")"
   ]
  },
  {
   "cell_type": "code",
   "execution_count": null,
   "metadata": {},
   "outputs": [],
   "source": [
    "support_quality_assurance_agent = Agent(\n",
    "\trole = \"Support Quality Assurance Specialist\",\n",
    "\tgoal = \"Get recognition for providing the best support quality assurance in your team\",\n",
    "\tbackstory = \"\"\"You work at crewAI (https://crewai.com) and are now working with your team on a request from {customer} ensuring that the support representative \n",
    "        is providing the best support possible.\n",
    "        You need to make sure that the support representative is providing full complete answers, and make no assumptions.\"\"\",\n",
    "\tverbose = True\n",
    ")"
   ]
  },
  {
   "cell_type": "code",
   "execution_count": null,
   "metadata": {},
   "outputs": [],
   "source": [
    "from crewai_tools import SerperDevTool, ScrapeWebsiteTool, WebsiteSearchTool"
   ]
  }
 ],
 "metadata": {
  "kernelspec": {
   "display_name": "crewai_env",
   "language": "python",
   "name": "python3"
  },
  "language_info": {
   "codemirror_mode": {
    "name": "ipython",
    "version": 3
   },
   "file_extension": ".py",
   "mimetype": "text/x-python",
   "name": "python",
   "nbconvert_exporter": "python",
   "pygments_lexer": "ipython3",
   "version": "3.11.11"
  }
 },
 "nbformat": 4,
 "nbformat_minor": 2
}
